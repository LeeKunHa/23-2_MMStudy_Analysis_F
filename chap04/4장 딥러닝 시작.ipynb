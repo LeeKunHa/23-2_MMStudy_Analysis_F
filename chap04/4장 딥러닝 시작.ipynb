{
 "cells": [
  {
   "cell_type": "markdown",
   "metadata": {},
   "source": [
    "# 4장 딥러닝 시작(p137~)"
   ]
  },
  {
   "cell_type": "code",
   "execution_count": 1,
   "metadata": {},
   "outputs": [],
   "source": [
    "import torch\n",
    "import torch.nn as nn"
   ]
  },
  {
   "cell_type": "markdown",
   "metadata": {},
   "source": [
    "- 렐루 함수와 소프트맥스 함수"
   ]
  },
  {
   "cell_type": "code",
   "execution_count": 5,
   "metadata": {},
   "outputs": [],
   "source": [
    "class Net(torch.nn.Module): \n",
    "  def __init__(self, n_feature, n_hidden, n_output): \n",
    "    super(Net, self).__init__() \n",
    "    self.hidden = torch.nn.Linear(n_feature, n_hidden) # 은닉층 \n",
    "    self.relu = torch.nn.ReLu(inplace=True) # 렐루 활성화 함수 \n",
    "    self.out = torch.nn.Linear(n_hidden, n_output) # 출력층 \n",
    "    self.softmax = torch.nn.Softmax(dim = n_output) # 소프트맥스 활성화 함수 \n",
    "\n",
    "  def forward(self, x): \n",
    "    x = self.hidden(x) \n",
    "    x = self.relu(x) # 은닉층을 위한 렐루 활성화 함수 \n",
    "    x = self.out(x) \n",
    "    x = self.softmax(x) # 출력층을 위한 소프트맥스 활성화 함수 \n"
   ]
  },
  {
   "cell_type": "markdown",
   "metadata": {},
   "source": [
    "- 손실함수(평균제곱 오차)"
   ]
  },
  {
   "cell_type": "code",
   "execution_count": null,
   "metadata": {},
   "outputs": [],
   "source": [
    "loss_fn = torch.nn.MSELoss(reduction='sum') \n",
    "y_pred = model(x) \n",
    "loss = loss_fn(y_pred, y)"
   ]
  },
  {
   "cell_type": "markdown",
   "metadata": {},
   "source": [
    "- 손실함수(크로스 엔트로피 오차)"
   ]
  },
  {
   "cell_type": "code",
   "execution_count": null,
   "metadata": {},
   "outputs": [],
   "source": [
    "loss = nn.CrossEntropyLoss()\n",
    "input = torch.randn(5,6, requires_grad = True) # 5x6 행렬 \n",
    "# torch.randn: 평균이 0이고 표준편차가 1인 가우시안 정규분포를 이용하여 숫자를 생성\n",
    "\n",
    "target = torch.empty(3, dtype = torch.long).random_(5) # 길이가 3인 벡터 \n",
    "# torch.empty: dtype torch.float32의 랜덤한 값으로 채워진 텐서를 반환\n",
    "\n",
    "output = loss(input, target)\n",
    "output.backward() "
   ]
  },
  {
   "cell_type": "markdown",
   "metadata": {},
   "source": [
    "- 드롭아웃(과적합 방지)"
   ]
  },
  {
   "cell_type": "code",
   "execution_count": null,
   "metadata": {},
   "outputs": [],
   "source": [
    "import torch.nn.functional as F \n",
    "\n",
    "class DropoutModel(torch.nn.Module): \n",
    "  def __init__(self) : \n",
    "    super(DropoutModel, self).__init__() \n",
    "    self.layer1 = torch.nn.Linear(784,1200) \n",
    "    self.droppout1 = torch.nn.Dropout(0.5) # 50% 노드를 무작위로 선택해 사용하지 않겠다는 의미\n",
    "    self.layer2 = torch.nn.Linear(1200, 1200) \n",
    "    self.dropout2 = torch.nn.Droput(0.5) \n",
    "    self.layer3 = torch.nn.Linear(1200,10) \n",
    "\n",
    "  def forward(self,x): \n",
    "    x = F.relu(self.layer1(x)) \n",
    "    x = self.dropout1(x) \n",
    "    x = F.relu(self.layer2(x)) \n",
    "    x = self.dropout2(x) \n",
    "    return self.layer3(x) "
   ]
  },
  {
   "cell_type": "markdown",
   "metadata": {},
   "source": [
    "- 미니배치 경사하강법 구현"
   ]
  },
  {
   "cell_type": "code",
   "execution_count": null,
   "metadata": {},
   "outputs": [],
   "source": [
    "from torch.utils.data import Dataset\n",
    "from torch.utils.data import DataLoader\n",
    "\n",
    "class CustomDataset(Dataset):\n",
    "  def __init__(self): \n",
    "    self.x_data = [[1,2,3], [4,5,6], [7,8,9]]\n",
    "    self.y_data = [[12], [18], [11]] \n",
    "\n",
    "  def __len__(self): \n",
    "    return len(self.x_data) \n",
    "  \n",
    "  def __getitem__(self,idx): \n",
    "    x = torch.FloatTensor(self.x_data[idx]) \n",
    "    y = torch.FloatTensor(self.y_data[idx]) \n",
    "    return x, y \n",
    "\n",
    "dataset = CustomDataset() \n",
    "dataloader = DataLoader(\n",
    "    dataset, # 데이터셋\n",
    "    batch_size = 2 # 미니배치크기로 2의 제곱수를 사용하겠다는 의미입니다. \n",
    "    suffle = True # 데이터를 불러올때마다 랜덤으로 섞어서 불러옵니다.\n",
    ")"
   ]
  },
  {
   "cell_type": "markdown",
   "metadata": {},
   "source": [
    "- 모멘텀"
   ]
  },
  {
   "cell_type": "code",
   "execution_count": null,
   "metadata": {
    "vscode": {
     "languageId": "plaintext"
    }
   },
   "outputs": [],
   "source": [
    "optimizer = torch.optim.SGD(model.parameters(), lr=0.01, momentum=0.9)"
   ]
  },
  {
   "cell_type": "markdown",
   "metadata": {},
   "source": [
    "- 네스테로프 모멘텀"
   ]
  },
  {
   "cell_type": "code",
   "execution_count": null,
   "metadata": {
    "vscode": {
     "languageId": "plaintext"
    }
   },
   "outputs": [],
   "source": [
    "optimizer = torch.optim.SGD(model.parameters(), lr=0.01, momentum=0.9, nesterov=True) #nessterov 기본값은 False"
   ]
  },
  {
   "cell_type": "markdown",
   "metadata": {},
   "source": [
    "- 아담"
   ]
  },
  {
   "cell_type": "code",
   "execution_count": null,
   "metadata": {
    "vscode": {
     "languageId": "plaintext"
    }
   },
   "outputs": [],
   "source": [
    "optimizer = torch.optim.Adam(model.parameters(), lr=0.01) #학습률 기본값은 1e-3"
   ]
  }
 ],
 "metadata": {
  "kernelspec": {
   "display_name": "base",
   "language": "python",
   "name": "python3"
  },
  "language_info": {
   "codemirror_mode": {
    "name": "ipython",
    "version": 3
   },
   "file_extension": ".py",
   "mimetype": "text/x-python",
   "name": "python",
   "nbconvert_exporter": "python",
   "pygments_lexer": "ipython3",
   "version": "3.10.9"
  },
  "orig_nbformat": 4
 },
 "nbformat": 4,
 "nbformat_minor": 2
}
